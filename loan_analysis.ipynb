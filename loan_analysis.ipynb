{
 "cells": [
  {
   "cell_type": "markdown",
   "metadata": {},
   "source": [
    "# Lending Club and S&P 500 Data"
   ]
  },
  {
   "cell_type": "code",
   "execution_count": 1,
   "metadata": {},
   "outputs": [],
   "source": [
    "import pandas as pd\n",
    "import numpy as np\n",
    "from pathlib import Path\n",
    "import seaborn as sns\n",
    "%matplotlib inline"
   ]
  },
  {
   "cell_type": "markdown",
   "metadata": {},
   "source": [
    "#### Lending Club return"
   ]
  },
  {
   "cell_type": "code",
   "execution_count": 2,
   "metadata": {},
   "outputs": [
    {
     "data": {
      "text/html": [
       "<div>\n",
       "<style scoped>\n",
       "    .dataframe tbody tr th:only-of-type {\n",
       "        vertical-align: middle;\n",
       "    }\n",
       "\n",
       "    .dataframe tbody tr th {\n",
       "        vertical-align: top;\n",
       "    }\n",
       "\n",
       "    .dataframe thead th {\n",
       "        text-align: right;\n",
       "    }\n",
       "</style>\n",
       "<table border=\"1\" class=\"dataframe\">\n",
       "  <thead>\n",
       "    <tr style=\"text-align: right;\">\n",
       "      <th></th>\n",
       "      <th>LOAN_ID</th>\n",
       "      <th>PBAL_BEG_PERIOD</th>\n",
       "      <th>INT_PAID</th>\n",
       "      <th>FEE_PAID</th>\n",
       "      <th>MONTH</th>\n",
       "      <th>COAMT</th>\n",
       "      <th>IssuedDate</th>\n",
       "      <th>grade</th>\n",
       "      <th>term</th>\n",
       "      <th>PCO_RECOVERY</th>\n",
       "      <th>PCO_COLLECTION_FEE</th>\n",
       "    </tr>\n",
       "  </thead>\n",
       "  <tbody>\n",
       "    <tr>\n",
       "      <th>0</th>\n",
       "      <td>54734</td>\n",
       "      <td>25000.000000</td>\n",
       "      <td>247.802083</td>\n",
       "      <td>0.0</td>\n",
       "      <td>SEP2009</td>\n",
       "      <td>0.0</td>\n",
       "      <td>AUG2009</td>\n",
       "      <td>B</td>\n",
       "      <td>36</td>\n",
       "      <td>NaN</td>\n",
       "      <td>NaN</td>\n",
       "    </tr>\n",
       "    <tr>\n",
       "      <th>1</th>\n",
       "      <td>54734</td>\n",
       "      <td>24418.702083</td>\n",
       "      <td>242.040210</td>\n",
       "      <td>0.0</td>\n",
       "      <td>OCT2009</td>\n",
       "      <td>0.0</td>\n",
       "      <td>AUG2009</td>\n",
       "      <td>B</td>\n",
       "      <td>36</td>\n",
       "      <td>NaN</td>\n",
       "      <td>NaN</td>\n",
       "    </tr>\n",
       "    <tr>\n",
       "      <th>2</th>\n",
       "      <td>54734</td>\n",
       "      <td>23831.642293</td>\n",
       "      <td>236.221224</td>\n",
       "      <td>0.0</td>\n",
       "      <td>NOV2009</td>\n",
       "      <td>0.0</td>\n",
       "      <td>AUG2009</td>\n",
       "      <td>B</td>\n",
       "      <td>36</td>\n",
       "      <td>NaN</td>\n",
       "      <td>NaN</td>\n",
       "    </tr>\n",
       "  </tbody>\n",
       "</table>\n",
       "</div>"
      ],
      "text/plain": [
       "   LOAN_ID  PBAL_BEG_PERIOD    INT_PAID  FEE_PAID    MONTH  COAMT IssuedDate  \\\n",
       "0    54734     25000.000000  247.802083       0.0  SEP2009    0.0    AUG2009   \n",
       "1    54734     24418.702083  242.040210       0.0  OCT2009    0.0    AUG2009   \n",
       "2    54734     23831.642293  236.221224       0.0  NOV2009    0.0    AUG2009   \n",
       "\n",
       "  grade  term  PCO_RECOVERY  PCO_COLLECTION_FEE  \n",
       "0     B    36           NaN                 NaN  \n",
       "1     B    36           NaN                 NaN  \n",
       "2     B    36           NaN                 NaN  "
      ]
     },
     "execution_count": 2,
     "metadata": {},
     "output_type": "execute_result"
    }
   ],
   "source": [
    "# reading the 'All Payments' csv file\n",
    "path = Path(\"PMTHIST_ALL_201910.csv\")\n",
    "df = pd.read_csv(path, usecols=['LOAN_ID','PBAL_BEG_PERIOD','INT_PAID','FEE_PAID','MONTH','COAMT','IssuedDate','grade', 'term','PCO_RECOVERY', 'PCO_COLLECTION_FEE'])\n",
    "df.head(3)"
   ]
  },
  {
   "cell_type": "code",
   "execution_count": 3,
   "metadata": {},
   "outputs": [],
   "source": [
    "# filter loans issued in 2016-2017\n",
    "df_16_17 = df[df.IssuedDate.str.contains(\"2016|2017\")]"
   ]
  },
  {
   "cell_type": "code",
   "execution_count": 4,
   "metadata": {},
   "outputs": [],
   "source": [
    "# Grouping the data by 'grade', 'term' and 'month' and summing the balances of all loans in these buckets\n",
    "df_agg = df_16_17.groupby(['grade', 'term','MONTH']).sum()[['PBAL_BEG_PERIOD','INT_PAID','FEE_PAID','COAMT','PCO_RECOVERY', 'PCO_COLLECTION_FEE']]"
   ]
  },
  {
   "cell_type": "code",
   "execution_count": 5,
   "metadata": {},
   "outputs": [],
   "source": [
    "# cash to investor = interest - fee to Lending Club - charge off amount + recovered amount - collection fee\n",
    "# monthly return = cash to investor/begininng period principal balance\n",
    "\n",
    "df_agg['CASH_INVESTOR'] = df_agg.INT_PAID - df_agg.FEE_PAID - df_agg.COAMT + df_agg.PCO_RECOVERY - df_agg.PCO_COLLECTION_FEE \n",
    "df_agg['MNTHLY_RETURN'] = df_agg.CASH_INVESTOR/df_agg.PBAL_BEG_PERIOD"
   ]
  },
  {
   "cell_type": "code",
   "execution_count": 6,
   "metadata": {},
   "outputs": [
    {
     "data": {
      "text/html": [
       "<div>\n",
       "<style scoped>\n",
       "    .dataframe tbody tr th:only-of-type {\n",
       "        vertical-align: middle;\n",
       "    }\n",
       "\n",
       "    .dataframe tbody tr th {\n",
       "        vertical-align: top;\n",
       "    }\n",
       "\n",
       "    .dataframe thead tr th {\n",
       "        text-align: left;\n",
       "    }\n",
       "\n",
       "    .dataframe thead tr:last-of-type th {\n",
       "        text-align: right;\n",
       "    }\n",
       "</style>\n",
       "<table border=\"1\" class=\"dataframe\">\n",
       "  <thead>\n",
       "    <tr>\n",
       "      <th></th>\n",
       "      <th colspan=\"14\" halign=\"left\">MNTHLY_RETURN</th>\n",
       "    </tr>\n",
       "    <tr>\n",
       "      <th>grade</th>\n",
       "      <th colspan=\"2\" halign=\"left\">A</th>\n",
       "      <th colspan=\"2\" halign=\"left\">B</th>\n",
       "      <th colspan=\"2\" halign=\"left\">C</th>\n",
       "      <th colspan=\"2\" halign=\"left\">D</th>\n",
       "      <th colspan=\"2\" halign=\"left\">E</th>\n",
       "      <th colspan=\"2\" halign=\"left\">F</th>\n",
       "      <th colspan=\"2\" halign=\"left\">G</th>\n",
       "    </tr>\n",
       "    <tr>\n",
       "      <th>term</th>\n",
       "      <th>36</th>\n",
       "      <th>60</th>\n",
       "      <th>36</th>\n",
       "      <th>60</th>\n",
       "      <th>36</th>\n",
       "      <th>60</th>\n",
       "      <th>36</th>\n",
       "      <th>60</th>\n",
       "      <th>36</th>\n",
       "      <th>60</th>\n",
       "      <th>36</th>\n",
       "      <th>60</th>\n",
       "      <th>36</th>\n",
       "      <th>60</th>\n",
       "    </tr>\n",
       "    <tr>\n",
       "      <th>MONTH</th>\n",
       "      <th></th>\n",
       "      <th></th>\n",
       "      <th></th>\n",
       "      <th></th>\n",
       "      <th></th>\n",
       "      <th></th>\n",
       "      <th></th>\n",
       "      <th></th>\n",
       "      <th></th>\n",
       "      <th></th>\n",
       "      <th></th>\n",
       "      <th></th>\n",
       "      <th></th>\n",
       "      <th></th>\n",
       "    </tr>\n",
       "  </thead>\n",
       "  <tbody>\n",
       "    <tr>\n",
       "      <th>2016-01-01</th>\n",
       "      <td>0.001292</td>\n",
       "      <td>0.003552</td>\n",
       "      <td>0.002079</td>\n",
       "      <td>0.001896</td>\n",
       "      <td>0.003615</td>\n",
       "      <td>0.004543</td>\n",
       "      <td>0.004709</td>\n",
       "      <td>0.005066</td>\n",
       "      <td>0.006276</td>\n",
       "      <td>0.004827</td>\n",
       "      <td>0.006873</td>\n",
       "      <td>0.008048</td>\n",
       "      <td>0.003878</td>\n",
       "      <td>0.010466</td>\n",
       "    </tr>\n",
       "    <tr>\n",
       "      <th>2016-02-01</th>\n",
       "      <td>0.005659</td>\n",
       "      <td>0.006529</td>\n",
       "      <td>0.008186</td>\n",
       "      <td>0.008378</td>\n",
       "      <td>0.010962</td>\n",
       "      <td>0.011253</td>\n",
       "      <td>0.014054</td>\n",
       "      <td>0.014323</td>\n",
       "      <td>0.016160</td>\n",
       "      <td>0.016589</td>\n",
       "      <td>0.018375</td>\n",
       "      <td>0.019852</td>\n",
       "      <td>0.021850</td>\n",
       "      <td>0.022619</td>\n",
       "    </tr>\n",
       "    <tr>\n",
       "      <th>2016-03-01</th>\n",
       "      <td>0.005606</td>\n",
       "      <td>0.006312</td>\n",
       "      <td>0.008277</td>\n",
       "      <td>0.008360</td>\n",
       "      <td>0.011133</td>\n",
       "      <td>0.011354</td>\n",
       "      <td>0.014277</td>\n",
       "      <td>0.014626</td>\n",
       "      <td>0.016825</td>\n",
       "      <td>0.016997</td>\n",
       "      <td>0.019922</td>\n",
       "      <td>0.019873</td>\n",
       "      <td>0.020686</td>\n",
       "      <td>0.022778</td>\n",
       "    </tr>\n",
       "  </tbody>\n",
       "</table>\n",
       "</div>"
      ],
      "text/plain": [
       "           MNTHLY_RETURN                                                    \\\n",
       "grade                  A                   B                   C             \n",
       "term                  36        60        36        60        36        60   \n",
       "MONTH                                                                        \n",
       "2016-01-01      0.001292  0.003552  0.002079  0.001896  0.003615  0.004543   \n",
       "2016-02-01      0.005659  0.006529  0.008186  0.008378  0.010962  0.011253   \n",
       "2016-03-01      0.005606  0.006312  0.008277  0.008360  0.011133  0.011354   \n",
       "\n",
       "                                                                        \\\n",
       "grade              D                   E                   F             \n",
       "term              36        60        36        60        36        60   \n",
       "MONTH                                                                    \n",
       "2016-01-01  0.004709  0.005066  0.006276  0.004827  0.006873  0.008048   \n",
       "2016-02-01  0.014054  0.014323  0.016160  0.016589  0.018375  0.019852   \n",
       "2016-03-01  0.014277  0.014626  0.016825  0.016997  0.019922  0.019873   \n",
       "\n",
       "                                \n",
       "grade              G            \n",
       "term              36        60  \n",
       "MONTH                           \n",
       "2016-01-01  0.003878  0.010466  \n",
       "2016-02-01  0.021850  0.022619  \n",
       "2016-03-01  0.020686  0.022778  "
      ]
     },
     "execution_count": 6,
     "metadata": {},
     "output_type": "execute_result"
    }
   ],
   "source": [
    "# creating return column for all grade-term buckets\n",
    "\n",
    "df_agg.index = df_agg.index.set_levels([df_agg.index.levels[0],df_agg.index.levels[1], pd.to_datetime(df_agg.index.levels[2])])\n",
    "df_agg.sort_index(inplace=True)\n",
    "loan_ret = df_agg.MNTHLY_RETURN.to_frame()\n",
    "loan_ret = loan_ret.unstack(level = [0,1])\n",
    "loan_ret.head(3)"
   ]
  },
  {
   "cell_type": "markdown",
   "metadata": {},
   "source": [
    "#### S&P 500 return"
   ]
  },
  {
   "cell_type": "code",
   "execution_count": 7,
   "metadata": {},
   "outputs": [
    {
     "data": {
      "text/html": [
       "<div>\n",
       "<style scoped>\n",
       "    .dataframe tbody tr th:only-of-type {\n",
       "        vertical-align: middle;\n",
       "    }\n",
       "\n",
       "    .dataframe tbody tr th {\n",
       "        vertical-align: top;\n",
       "    }\n",
       "\n",
       "    .dataframe thead th {\n",
       "        text-align: right;\n",
       "    }\n",
       "</style>\n",
       "<table border=\"1\" class=\"dataframe\">\n",
       "  <thead>\n",
       "    <tr style=\"text-align: right;\">\n",
       "      <th></th>\n",
       "      <th>RET_SP_500</th>\n",
       "    </tr>\n",
       "    <tr>\n",
       "      <th>Date</th>\n",
       "      <th></th>\n",
       "    </tr>\n",
       "  </thead>\n",
       "  <tbody>\n",
       "    <tr>\n",
       "      <th>2016-01-01</th>\n",
       "      <td>-0.050735</td>\n",
       "    </tr>\n",
       "    <tr>\n",
       "      <th>2016-02-01</th>\n",
       "      <td>-0.004128</td>\n",
       "    </tr>\n",
       "    <tr>\n",
       "      <th>2016-03-01</th>\n",
       "      <td>0.065991</td>\n",
       "    </tr>\n",
       "  </tbody>\n",
       "</table>\n",
       "</div>"
      ],
      "text/plain": [
       "            RET_SP_500\n",
       "Date                  \n",
       "2016-01-01   -0.050735\n",
       "2016-02-01   -0.004128\n",
       "2016-03-01    0.065991"
      ]
     },
     "execution_count": 7,
     "metadata": {},
     "output_type": "execute_result"
    }
   ],
   "source": [
    "# reading the S&P 500 monthly data csv file\n",
    "SP_500 = pd.read_csv(\"SP_500.csv\", index_col='Date', infer_datetime_format=True, parse_dates= True)\n",
    "SP_500 = SP_500.Close[:'2019-09'].to_frame()\n",
    "SP_500['RET_SP_500']=SP_500.Close.pct_change()\n",
    "SP_500.dropna(inplace=True)\n",
    "SP_500.drop(columns = 'Close', inplace= True)\n",
    "SP_500.head(3)"
   ]
  },
  {
   "cell_type": "markdown",
   "metadata": {},
   "source": [
    "#### Lending Club and S&P returns data combined"
   ]
  },
  {
   "cell_type": "code",
   "execution_count": 23,
   "metadata": {},
   "outputs": [
    {
     "data": {
      "text/html": [
       "<div>\n",
       "<style scoped>\n",
       "    .dataframe tbody tr th:only-of-type {\n",
       "        vertical-align: middle;\n",
       "    }\n",
       "\n",
       "    .dataframe tbody tr th {\n",
       "        vertical-align: top;\n",
       "    }\n",
       "\n",
       "    .dataframe thead th {\n",
       "        text-align: right;\n",
       "    }\n",
       "</style>\n",
       "<table border=\"1\" class=\"dataframe\">\n",
       "  <thead>\n",
       "    <tr style=\"text-align: right;\">\n",
       "      <th></th>\n",
       "      <th>A-3</th>\n",
       "      <th>A-5</th>\n",
       "      <th>B-3</th>\n",
       "      <th>B-5</th>\n",
       "      <th>C-3</th>\n",
       "      <th>C-5</th>\n",
       "      <th>D-3</th>\n",
       "      <th>D-5</th>\n",
       "      <th>E-3</th>\n",
       "      <th>E-5</th>\n",
       "      <th>F-3</th>\n",
       "      <th>F-5</th>\n",
       "      <th>G-3</th>\n",
       "      <th>G-5</th>\n",
       "      <th>SP_500</th>\n",
       "    </tr>\n",
       "  </thead>\n",
       "  <tbody>\n",
       "    <tr>\n",
       "      <th>2016-01-01</th>\n",
       "      <td>0.001292</td>\n",
       "      <td>0.003552</td>\n",
       "      <td>0.002079</td>\n",
       "      <td>0.001896</td>\n",
       "      <td>0.003615</td>\n",
       "      <td>0.004543</td>\n",
       "      <td>0.004709</td>\n",
       "      <td>0.005066</td>\n",
       "      <td>0.006276</td>\n",
       "      <td>0.004827</td>\n",
       "      <td>0.006873</td>\n",
       "      <td>0.008048</td>\n",
       "      <td>0.003878</td>\n",
       "      <td>0.010466</td>\n",
       "      <td>-0.050735</td>\n",
       "    </tr>\n",
       "    <tr>\n",
       "      <th>2016-02-01</th>\n",
       "      <td>0.005659</td>\n",
       "      <td>0.006529</td>\n",
       "      <td>0.008186</td>\n",
       "      <td>0.008378</td>\n",
       "      <td>0.010962</td>\n",
       "      <td>0.011253</td>\n",
       "      <td>0.014054</td>\n",
       "      <td>0.014323</td>\n",
       "      <td>0.016160</td>\n",
       "      <td>0.016589</td>\n",
       "      <td>0.018375</td>\n",
       "      <td>0.019852</td>\n",
       "      <td>0.021850</td>\n",
       "      <td>0.022619</td>\n",
       "      <td>-0.004128</td>\n",
       "    </tr>\n",
       "    <tr>\n",
       "      <th>2016-03-01</th>\n",
       "      <td>0.005606</td>\n",
       "      <td>0.006312</td>\n",
       "      <td>0.008277</td>\n",
       "      <td>0.008360</td>\n",
       "      <td>0.011133</td>\n",
       "      <td>0.011354</td>\n",
       "      <td>0.014277</td>\n",
       "      <td>0.014626</td>\n",
       "      <td>0.016825</td>\n",
       "      <td>0.016997</td>\n",
       "      <td>0.019922</td>\n",
       "      <td>0.019873</td>\n",
       "      <td>0.020686</td>\n",
       "      <td>0.022778</td>\n",
       "      <td>0.065991</td>\n",
       "    </tr>\n",
       "    <tr>\n",
       "      <th>2016-04-01</th>\n",
       "      <td>0.005523</td>\n",
       "      <td>0.006168</td>\n",
       "      <td>0.008310</td>\n",
       "      <td>0.008370</td>\n",
       "      <td>0.011186</td>\n",
       "      <td>0.011398</td>\n",
       "      <td>0.014428</td>\n",
       "      <td>0.014801</td>\n",
       "      <td>0.016885</td>\n",
       "      <td>0.017163</td>\n",
       "      <td>0.020103</td>\n",
       "      <td>0.020173</td>\n",
       "      <td>0.023133</td>\n",
       "      <td>0.022702</td>\n",
       "      <td>0.002699</td>\n",
       "    </tr>\n",
       "    <tr>\n",
       "      <th>2016-05-01</th>\n",
       "      <td>0.005485</td>\n",
       "      <td>0.006215</td>\n",
       "      <td>0.008218</td>\n",
       "      <td>0.008356</td>\n",
       "      <td>0.011195</td>\n",
       "      <td>0.011397</td>\n",
       "      <td>0.014553</td>\n",
       "      <td>0.014853</td>\n",
       "      <td>0.017112</td>\n",
       "      <td>0.017359</td>\n",
       "      <td>0.019912</td>\n",
       "      <td>0.019319</td>\n",
       "      <td>0.022691</td>\n",
       "      <td>0.022320</td>\n",
       "      <td>0.015325</td>\n",
       "    </tr>\n",
       "  </tbody>\n",
       "</table>\n",
       "</div>"
      ],
      "text/plain": [
       "                 A-3       A-5       B-3       B-5       C-3       C-5  \\\n",
       "2016-01-01  0.001292  0.003552  0.002079  0.001896  0.003615  0.004543   \n",
       "2016-02-01  0.005659  0.006529  0.008186  0.008378  0.010962  0.011253   \n",
       "2016-03-01  0.005606  0.006312  0.008277  0.008360  0.011133  0.011354   \n",
       "2016-04-01  0.005523  0.006168  0.008310  0.008370  0.011186  0.011398   \n",
       "2016-05-01  0.005485  0.006215  0.008218  0.008356  0.011195  0.011397   \n",
       "\n",
       "                 D-3       D-5       E-3       E-5       F-3       F-5  \\\n",
       "2016-01-01  0.004709  0.005066  0.006276  0.004827  0.006873  0.008048   \n",
       "2016-02-01  0.014054  0.014323  0.016160  0.016589  0.018375  0.019852   \n",
       "2016-03-01  0.014277  0.014626  0.016825  0.016997  0.019922  0.019873   \n",
       "2016-04-01  0.014428  0.014801  0.016885  0.017163  0.020103  0.020173   \n",
       "2016-05-01  0.014553  0.014853  0.017112  0.017359  0.019912  0.019319   \n",
       "\n",
       "                 G-3       G-5    SP_500  \n",
       "2016-01-01  0.003878  0.010466 -0.050735  \n",
       "2016-02-01  0.021850  0.022619 -0.004128  \n",
       "2016-03-01  0.020686  0.022778  0.065991  \n",
       "2016-04-01  0.023133  0.022702  0.002699  \n",
       "2016-05-01  0.022691  0.022320  0.015325  "
      ]
     },
     "execution_count": 23,
     "metadata": {},
     "output_type": "execute_result"
    }
   ],
   "source": [
    "#joining the dataframes\n",
    "all_assets = pd.concat([loan_ret,SP_500], axis = 1)\n",
    "#renaming the columns\n",
    "all_assets.columns = ['A-3', 'A-5', 'B-3','B-5','C-3', 'C-5', 'D-3','D-5','E-3', 'E-5', 'F-3','F-5','G-3', 'G-5', 'SP_500']\n",
    "all_assets.head()"
   ]
  },
  {
   "cell_type": "markdown",
   "metadata": {},
   "source": [
    "# Returns"
   ]
  },
  {
   "cell_type": "markdown",
   "metadata": {},
   "source": [
    "#### Mean returns for each asset during the given period"
   ]
  },
  {
   "cell_type": "code",
   "execution_count": 9,
   "metadata": {},
   "outputs": [
    {
     "data": {
      "text/plain": [
       "A-3        4.606971\n",
       "A-5        5.353015\n",
       "B-3        4.921168\n",
       "B-5        6.863737\n",
       "C-3        4.246341\n",
       "C-5        7.864461\n",
       "D-3        3.246384\n",
       "D-5        7.713229\n",
       "E-3        1.277363\n",
       "E-5        6.157324\n",
       "F-3       -2.673403\n",
       "F-5        3.056749\n",
       "G-3       -6.770392\n",
       "G-5        2.914173\n",
       "SP_500    10.762329\n",
       "dtype: float64"
      ]
     },
     "execution_count": 9,
     "metadata": {},
     "output_type": "execute_result"
    }
   ],
   "source": [
    "# mean return in percentage\n",
    "mean_returns = all_assets.mean()*12*100\n",
    "mean_returns"
   ]
  },
  {
   "cell_type": "code",
   "execution_count": 10,
   "metadata": {},
   "outputs": [
    {
     "data": {
      "text/plain": [
       "Text(0, 0.5, 'Return (%)')"
      ]
     },
     "execution_count": 10,
     "metadata": {},
     "output_type": "execute_result"
    },
    {
     "data": {
      "image/png": "[encoded data removed]",
      "text/plain": [
       "<Figure size 720x288 with 1 Axes>"
      ]
     },
     "metadata": {
      "needs_background": "light"
     },
     "output_type": "display_data"
    }
   ],
   "source": [
    "ax = mean_returns.plot(kind = 'bar',figsize = (10,4) , title= 'Mean Returns')\n",
    "ax.set_xlabel(\"Asset Type\")\n",
    "ax.set_ylabel(\"Return (%)\")"
   ]
  },
  {
   "cell_type": "markdown",
   "metadata": {},
   "source": [
    "#### Cumulative return graph from grade A, B, C and D and S&P 500 "
   ]
  },
  {
   "cell_type": "code",
   "execution_count": 41,
   "metadata": {},
   "outputs": [
    {
     "data": {
      "text/html": [
       "<div>\n",
       "<style scoped>\n",
       "    .dataframe tbody tr th:only-of-type {\n",
       "        vertical-align: middle;\n",
       "    }\n",
       "\n",
       "    .dataframe tbody tr th {\n",
       "        vertical-align: top;\n",
       "    }\n",
       "\n",
       "    .dataframe thead th {\n",
       "        text-align: right;\n",
       "    }\n",
       "</style>\n",
       "<table border=\"1\" class=\"dataframe\">\n",
       "  <thead>\n",
       "    <tr style=\"text-align: right;\">\n",
       "      <th></th>\n",
       "      <th>A-3</th>\n",
       "      <th>A-5</th>\n",
       "      <th>B-3</th>\n",
       "      <th>B-5</th>\n",
       "      <th>C-3</th>\n",
       "      <th>C-5</th>\n",
       "      <th>D-3</th>\n",
       "      <th>D-5</th>\n",
       "      <th>SP_500</th>\n",
       "    </tr>\n",
       "  </thead>\n",
       "  <tbody>\n",
       "    <tr>\n",
       "      <th>2016-01-01</th>\n",
       "      <td>0.129230</td>\n",
       "      <td>0.355160</td>\n",
       "      <td>0.207868</td>\n",
       "      <td>0.189602</td>\n",
       "      <td>0.361511</td>\n",
       "      <td>0.454288</td>\n",
       "      <td>0.470948</td>\n",
       "      <td>0.506589</td>\n",
       "      <td>-5.073532</td>\n",
       "    </tr>\n",
       "    <tr>\n",
       "      <th>2016-02-01</th>\n",
       "      <td>0.695875</td>\n",
       "      <td>1.010340</td>\n",
       "      <td>1.028138</td>\n",
       "      <td>1.028963</td>\n",
       "      <td>1.461681</td>\n",
       "      <td>1.584728</td>\n",
       "      <td>1.882946</td>\n",
       "      <td>1.946176</td>\n",
       "      <td>-5.465423</td>\n",
       "    </tr>\n",
       "    <tr>\n",
       "      <th>2016-03-01</th>\n",
       "      <td>1.260361</td>\n",
       "      <td>1.647915</td>\n",
       "      <td>1.864300</td>\n",
       "      <td>1.873533</td>\n",
       "      <td>2.591208</td>\n",
       "      <td>2.738080</td>\n",
       "      <td>3.337494</td>\n",
       "      <td>3.437268</td>\n",
       "      <td>0.773019</td>\n",
       "    </tr>\n",
       "    <tr>\n",
       "      <th>2016-04-01</th>\n",
       "      <td>1.819624</td>\n",
       "      <td>2.274911</td>\n",
       "      <td>2.710825</td>\n",
       "      <td>2.726251</td>\n",
       "      <td>3.738750</td>\n",
       "      <td>3.909138</td>\n",
       "      <td>4.828448</td>\n",
       "      <td>4.968204</td>\n",
       "      <td>1.045046</td>\n",
       "    </tr>\n",
       "    <tr>\n",
       "      <th>2016-05-01</th>\n",
       "      <td>2.378142</td>\n",
       "      <td>2.910555</td>\n",
       "      <td>3.554864</td>\n",
       "      <td>3.584670</td>\n",
       "      <td>4.900103</td>\n",
       "      <td>5.093435</td>\n",
       "      <td>6.354058</td>\n",
       "      <td>6.527298</td>\n",
       "      <td>2.593521</td>\n",
       "    </tr>\n",
       "  </tbody>\n",
       "</table>\n",
       "</div>"
      ],
      "text/plain": [
       "                 A-3       A-5       B-3       B-5       C-3       C-5  \\\n",
       "2016-01-01  0.129230  0.355160  0.207868  0.189602  0.361511  0.454288   \n",
       "2016-02-01  0.695875  1.010340  1.028138  1.028963  1.461681  1.584728   \n",
       "2016-03-01  1.260361  1.647915  1.864300  1.873533  2.591208  2.738080   \n",
       "2016-04-01  1.819624  2.274911  2.710825  2.726251  3.738750  3.909138   \n",
       "2016-05-01  2.378142  2.910555  3.554864  3.584670  4.900103  5.093435   \n",
       "\n",
       "                 D-3       D-5    SP_500  \n",
       "2016-01-01  0.470948  0.506589 -5.073532  \n",
       "2016-02-01  1.882946  1.946176 -5.465423  \n",
       "2016-03-01  3.337494  3.437268  0.773019  \n",
       "2016-04-01  4.828448  4.968204  1.045046  \n",
       "2016-05-01  6.354058  6.527298  2.593521  "
      ]
     },
     "execution_count": 41,
     "metadata": {},
     "output_type": "execute_result"
    }
   ],
   "source": [
    "#calculating cumulative returns for each asset in percentage terms(%)\n",
    "cum_ret = ((1+all_assets[['A-3', 'A-5', 'B-3','B-5','C-3', 'C-5', 'D-3','D-5','SP_500']]).cumprod()-1)*100\n",
    "cum_ret.head()"
   ]
  },
  {
   "cell_type": "code",
   "execution_count": 42,
   "metadata": {},
   "outputs": [
    {
     "data": {
      "text/plain": [
       "Text(0, 0.5, 'Cumulative Return (%)')"
      ]
     },
     "execution_count": 42,
     "metadata": {},
     "output_type": "execute_result"
    },
    {
     "data": {
      "image/png": "[encoded data removed]",
      "text/plain": [
       "<Figure size 720x432 with 1 Axes>"
      ]
     },
     "metadata": {
      "needs_background": "light"
     },
     "output_type": "display_data"
    }
   ],
   "source": [
    "ax = cum_ret.plot(figsize = (10,6))\n",
    "ax.set_xlabel(\"Month\")\n",
    "ax.set_ylabel(\"Cumulative Return (%)\")"
   ]
  },
  {
   "cell_type": "markdown",
   "metadata": {},
   "source": [
    "# Sharpe Ratio based performance analysis "
   ]
  },
  {
   "cell_type": "code",
   "execution_count": 13,
   "metadata": {},
   "outputs": [
    {
     "data": {
      "text/plain": [
       "A-3       6.044642\n",
       "A-5       7.466764\n",
       "B-3       2.967332\n",
       "B-5       7.468533\n",
       "C-3       1.461706\n",
       "C-5       5.122919\n",
       "D-3       0.655585\n",
       "D-5       3.313572\n",
       "E-3      -0.095473\n",
       "E-5       1.968854\n",
       "F-3      -1.014541\n",
       "F-5       0.477528\n",
       "G-3      -1.301448\n",
       "G-5       0.353791\n",
       "SP_500    0.774099\n",
       "Name: Sharpe Ratio, dtype: float64"
      ]
     },
     "execution_count": 13,
     "metadata": {},
     "output_type": "execute_result"
    }
   ],
   "source": [
    "# taking one month Treasury rate as risk free rate\n",
    "rfr = 0.0158\n",
    "#calculating annual Sharpe Ratio\n",
    "sharpe_ratio = (all_assets.mean() * 12 - rfr) / (all_assets.std() * np.sqrt(12))\n",
    "sharpe_ratio.rename(\"Sharpe Ratio\", inplace = True)\n",
    "sharpe_ratio"
   ]
  },
  {
   "cell_type": "code",
   "execution_count": 14,
   "metadata": {},
   "outputs": [
    {
     "data": {
      "text/plain": [
       "<matplotlib.axes._subplots.AxesSubplot at 0x28d09c504a8>"
      ]
     },
     "execution_count": 14,
     "metadata": {},
     "output_type": "execute_result"
    },
    {
     "data": {
      "image/png": "[encoded data removed]",
      "text/plain": [
       "<Figure size 720x216 with 1 Axes>"
      ]
     },
     "metadata": {
      "needs_background": "light"
     },
     "output_type": "display_data"
    }
   ],
   "source": [
    "sharpe_ratio.plot(kind = 'bar',figsize = (10,3), legend = True)"
   ]
  },
  {
   "cell_type": "markdown",
   "metadata": {},
   "source": [
    "# Across asset correlation analysis"
   ]
  },
  {
   "cell_type": "code",
   "execution_count": 15,
   "metadata": {},
   "outputs": [
    {
     "data": {
      "text/html": [
       "<div>\n",
       "<style scoped>\n",
       "    .dataframe tbody tr th:only-of-type {\n",
       "        vertical-align: middle;\n",
       "    }\n",
       "\n",
       "    .dataframe tbody tr th {\n",
       "        vertical-align: top;\n",
       "    }\n",
       "\n",
       "    .dataframe thead th {\n",
       "        text-align: right;\n",
       "    }\n",
       "</style>\n",
       "<table border=\"1\" class=\"dataframe\">\n",
       "  <thead>\n",
       "    <tr style=\"text-align: right;\">\n",
       "      <th></th>\n",
       "      <th>A-3</th>\n",
       "      <th>A-5</th>\n",
       "      <th>B-3</th>\n",
       "      <th>B-5</th>\n",
       "      <th>C-3</th>\n",
       "      <th>C-5</th>\n",
       "      <th>D-3</th>\n",
       "      <th>D-5</th>\n",
       "      <th>E-3</th>\n",
       "      <th>E-5</th>\n",
       "      <th>F-3</th>\n",
       "      <th>F-5</th>\n",
       "      <th>G-3</th>\n",
       "      <th>G-5</th>\n",
       "      <th>SP_500</th>\n",
       "    </tr>\n",
       "  </thead>\n",
       "  <tbody>\n",
       "    <tr>\n",
       "      <th>A-3</th>\n",
       "      <td>1.000000</td>\n",
       "      <td>0.876492</td>\n",
       "      <td>0.967298</td>\n",
       "      <td>0.967656</td>\n",
       "      <td>0.913146</td>\n",
       "      <td>0.934575</td>\n",
       "      <td>0.852109</td>\n",
       "      <td>0.899011</td>\n",
       "      <td>0.834505</td>\n",
       "      <td>0.802053</td>\n",
       "      <td>0.709236</td>\n",
       "      <td>0.693940</td>\n",
       "      <td>0.612279</td>\n",
       "      <td>0.667513</td>\n",
       "      <td>0.154323</td>\n",
       "    </tr>\n",
       "    <tr>\n",
       "      <th>A-5</th>\n",
       "      <td>0.876492</td>\n",
       "      <td>1.000000</td>\n",
       "      <td>0.907337</td>\n",
       "      <td>0.867281</td>\n",
       "      <td>0.876503</td>\n",
       "      <td>0.872737</td>\n",
       "      <td>0.836405</td>\n",
       "      <td>0.860080</td>\n",
       "      <td>0.810046</td>\n",
       "      <td>0.799736</td>\n",
       "      <td>0.716271</td>\n",
       "      <td>0.735960</td>\n",
       "      <td>0.616825</td>\n",
       "      <td>0.686228</td>\n",
       "      <td>0.214548</td>\n",
       "    </tr>\n",
       "    <tr>\n",
       "      <th>B-3</th>\n",
       "      <td>0.967298</td>\n",
       "      <td>0.907337</td>\n",
       "      <td>1.000000</td>\n",
       "      <td>0.963376</td>\n",
       "      <td>0.978062</td>\n",
       "      <td>0.981666</td>\n",
       "      <td>0.937704</td>\n",
       "      <td>0.962922</td>\n",
       "      <td>0.905735</td>\n",
       "      <td>0.890751</td>\n",
       "      <td>0.794631</td>\n",
       "      <td>0.802188</td>\n",
       "      <td>0.688542</td>\n",
       "      <td>0.756088</td>\n",
       "      <td>0.136214</td>\n",
       "    </tr>\n",
       "    <tr>\n",
       "      <th>B-5</th>\n",
       "      <td>0.967656</td>\n",
       "      <td>0.867281</td>\n",
       "      <td>0.963376</td>\n",
       "      <td>1.000000</td>\n",
       "      <td>0.944423</td>\n",
       "      <td>0.964488</td>\n",
       "      <td>0.906208</td>\n",
       "      <td>0.940713</td>\n",
       "      <td>0.873409</td>\n",
       "      <td>0.875949</td>\n",
       "      <td>0.755170</td>\n",
       "      <td>0.775781</td>\n",
       "      <td>0.658365</td>\n",
       "      <td>0.736586</td>\n",
       "      <td>0.149617</td>\n",
       "    </tr>\n",
       "    <tr>\n",
       "      <th>C-3</th>\n",
       "      <td>0.913146</td>\n",
       "      <td>0.876503</td>\n",
       "      <td>0.978062</td>\n",
       "      <td>0.944423</td>\n",
       "      <td>1.000000</td>\n",
       "      <td>0.988887</td>\n",
       "      <td>0.980291</td>\n",
       "      <td>0.981705</td>\n",
       "      <td>0.956292</td>\n",
       "      <td>0.942981</td>\n",
       "      <td>0.856803</td>\n",
       "      <td>0.882646</td>\n",
       "      <td>0.744010</td>\n",
       "      <td>0.835467</td>\n",
       "      <td>0.110200</td>\n",
       "    </tr>\n",
       "    <tr>\n",
       "      <th>C-5</th>\n",
       "      <td>0.934575</td>\n",
       "      <td>0.872737</td>\n",
       "      <td>0.981666</td>\n",
       "      <td>0.964488</td>\n",
       "      <td>0.988887</td>\n",
       "      <td>1.000000</td>\n",
       "      <td>0.967212</td>\n",
       "      <td>0.974714</td>\n",
       "      <td>0.939184</td>\n",
       "      <td>0.925247</td>\n",
       "      <td>0.817888</td>\n",
       "      <td>0.848698</td>\n",
       "      <td>0.749862</td>\n",
       "      <td>0.811821</td>\n",
       "      <td>0.140323</td>\n",
       "    </tr>\n",
       "    <tr>\n",
       "      <th>D-3</th>\n",
       "      <td>0.852109</td>\n",
       "      <td>0.836405</td>\n",
       "      <td>0.937704</td>\n",
       "      <td>0.906208</td>\n",
       "      <td>0.980291</td>\n",
       "      <td>0.967212</td>\n",
       "      <td>1.000000</td>\n",
       "      <td>0.982552</td>\n",
       "      <td>0.965168</td>\n",
       "      <td>0.965155</td>\n",
       "      <td>0.892067</td>\n",
       "      <td>0.927609</td>\n",
       "      <td>0.784181</td>\n",
       "      <td>0.867322</td>\n",
       "      <td>0.071418</td>\n",
       "    </tr>\n",
       "    <tr>\n",
       "      <th>D-5</th>\n",
       "      <td>0.899011</td>\n",
       "      <td>0.860080</td>\n",
       "      <td>0.962922</td>\n",
       "      <td>0.940713</td>\n",
       "      <td>0.981705</td>\n",
       "      <td>0.974714</td>\n",
       "      <td>0.982552</td>\n",
       "      <td>1.000000</td>\n",
       "      <td>0.946174</td>\n",
       "      <td>0.955088</td>\n",
       "      <td>0.869757</td>\n",
       "      <td>0.900955</td>\n",
       "      <td>0.725841</td>\n",
       "      <td>0.836359</td>\n",
       "      <td>0.109550</td>\n",
       "    </tr>\n",
       "    <tr>\n",
       "      <th>E-3</th>\n",
       "      <td>0.834505</td>\n",
       "      <td>0.810046</td>\n",
       "      <td>0.905735</td>\n",
       "      <td>0.873409</td>\n",
       "      <td>0.956292</td>\n",
       "      <td>0.939184</td>\n",
       "      <td>0.965168</td>\n",
       "      <td>0.946174</td>\n",
       "      <td>1.000000</td>\n",
       "      <td>0.942827</td>\n",
       "      <td>0.895469</td>\n",
       "      <td>0.916299</td>\n",
       "      <td>0.814440</td>\n",
       "      <td>0.901211</td>\n",
       "      <td>0.098593</td>\n",
       "    </tr>\n",
       "    <tr>\n",
       "      <th>E-5</th>\n",
       "      <td>0.802053</td>\n",
       "      <td>0.799736</td>\n",
       "      <td>0.890751</td>\n",
       "      <td>0.875949</td>\n",
       "      <td>0.942981</td>\n",
       "      <td>0.925247</td>\n",
       "      <td>0.965155</td>\n",
       "      <td>0.955088</td>\n",
       "      <td>0.942827</td>\n",
       "      <td>1.000000</td>\n",
       "      <td>0.873731</td>\n",
       "      <td>0.965402</td>\n",
       "      <td>0.740429</td>\n",
       "      <td>0.889326</td>\n",
       "      <td>0.147592</td>\n",
       "    </tr>\n",
       "    <tr>\n",
       "      <th>F-3</th>\n",
       "      <td>0.709236</td>\n",
       "      <td>0.716271</td>\n",
       "      <td>0.794631</td>\n",
       "      <td>0.755170</td>\n",
       "      <td>0.856803</td>\n",
       "      <td>0.817888</td>\n",
       "      <td>0.892067</td>\n",
       "      <td>0.869757</td>\n",
       "      <td>0.895469</td>\n",
       "      <td>0.873731</td>\n",
       "      <td>1.000000</td>\n",
       "      <td>0.889298</td>\n",
       "      <td>0.722593</td>\n",
       "      <td>0.870519</td>\n",
       "      <td>-0.028603</td>\n",
       "    </tr>\n",
       "    <tr>\n",
       "      <th>F-5</th>\n",
       "      <td>0.693940</td>\n",
       "      <td>0.735960</td>\n",
       "      <td>0.802188</td>\n",
       "      <td>0.775781</td>\n",
       "      <td>0.882646</td>\n",
       "      <td>0.848698</td>\n",
       "      <td>0.927609</td>\n",
       "      <td>0.900955</td>\n",
       "      <td>0.916299</td>\n",
       "      <td>0.965402</td>\n",
       "      <td>0.889298</td>\n",
       "      <td>1.000000</td>\n",
       "      <td>0.735622</td>\n",
       "      <td>0.890124</td>\n",
       "      <td>0.056888</td>\n",
       "    </tr>\n",
       "    <tr>\n",
       "      <th>G-3</th>\n",
       "      <td>0.612279</td>\n",
       "      <td>0.616825</td>\n",
       "      <td>0.688542</td>\n",
       "      <td>0.658365</td>\n",
       "      <td>0.744010</td>\n",
       "      <td>0.749862</td>\n",
       "      <td>0.784181</td>\n",
       "      <td>0.725841</td>\n",
       "      <td>0.814440</td>\n",
       "      <td>0.740429</td>\n",
       "      <td>0.722593</td>\n",
       "      <td>0.735622</td>\n",
       "      <td>1.000000</td>\n",
       "      <td>0.810397</td>\n",
       "      <td>0.073867</td>\n",
       "    </tr>\n",
       "    <tr>\n",
       "      <th>G-5</th>\n",
       "      <td>0.667513</td>\n",
       "      <td>0.686228</td>\n",
       "      <td>0.756088</td>\n",
       "      <td>0.736586</td>\n",
       "      <td>0.835467</td>\n",
       "      <td>0.811821</td>\n",
       "      <td>0.867322</td>\n",
       "      <td>0.836359</td>\n",
       "      <td>0.901211</td>\n",
       "      <td>0.889326</td>\n",
       "      <td>0.870519</td>\n",
       "      <td>0.890124</td>\n",
       "      <td>0.810397</td>\n",
       "      <td>1.000000</td>\n",
       "      <td>0.132787</td>\n",
       "    </tr>\n",
       "    <tr>\n",
       "      <th>SP_500</th>\n",
       "      <td>0.154323</td>\n",
       "      <td>0.214548</td>\n",
       "      <td>0.136214</td>\n",
       "      <td>0.149617</td>\n",
       "      <td>0.110200</td>\n",
       "      <td>0.140323</td>\n",
       "      <td>0.071418</td>\n",
       "      <td>0.109550</td>\n",
       "      <td>0.098593</td>\n",
       "      <td>0.147592</td>\n",
       "      <td>-0.028603</td>\n",
       "      <td>0.056888</td>\n",
       "      <td>0.073867</td>\n",
       "      <td>0.132787</td>\n",
       "      <td>1.000000</td>\n",
       "    </tr>\n",
       "  </tbody>\n",
       "</table>\n",
       "</div>"
      ],
      "text/plain": [
       "             A-3       A-5       B-3       B-5       C-3       C-5       D-3  \\\n",
       "A-3     1.000000  0.876492  0.967298  0.967656  0.913146  0.934575  0.852109   \n",
       "A-5     0.876492  1.000000  0.907337  0.867281  0.876503  0.872737  0.836405   \n",
       "B-3     0.967298  0.907337  1.000000  0.963376  0.978062  0.981666  0.937704   \n",
       "B-5     0.967656  0.867281  0.963376  1.000000  0.944423  0.964488  0.906208   \n",
       "C-3     0.913146  0.876503  0.978062  0.944423  1.000000  0.988887  0.980291   \n",
       "C-5     0.934575  0.872737  0.981666  0.964488  0.988887  1.000000  0.967212   \n",
       "D-3     0.852109  0.836405  0.937704  0.906208  0.980291  0.967212  1.000000   \n",
       "D-5     0.899011  0.860080  0.962922  0.940713  0.981705  0.974714  0.982552   \n",
       "E-3     0.834505  0.810046  0.905735  0.873409  0.956292  0.939184  0.965168   \n",
       "E-5     0.802053  0.799736  0.890751  0.875949  0.942981  0.925247  0.965155   \n",
       "F-3     0.709236  0.716271  0.794631  0.755170  0.856803  0.817888  0.892067   \n",
       "F-5     0.693940  0.735960  0.802188  0.775781  0.882646  0.848698  0.927609   \n",
       "G-3     0.612279  0.616825  0.688542  0.658365  0.744010  0.749862  0.784181   \n",
       "G-5     0.667513  0.686228  0.756088  0.736586  0.835467  0.811821  0.867322   \n",
       "SP_500  0.154323  0.214548  0.136214  0.149617  0.110200  0.140323  0.071418   \n",
       "\n",
       "             D-5       E-3       E-5       F-3       F-5       G-3       G-5  \\\n",
       "A-3     0.899011  0.834505  0.802053  0.709236  0.693940  0.612279  0.667513   \n",
       "A-5     0.860080  0.810046  0.799736  0.716271  0.735960  0.616825  0.686228   \n",
       "B-3     0.962922  0.905735  0.890751  0.794631  0.802188  0.688542  0.756088   \n",
       "B-5     0.940713  0.873409  0.875949  0.755170  0.775781  0.658365  0.736586   \n",
       "C-3     0.981705  0.956292  0.942981  0.856803  0.882646  0.744010  0.835467   \n",
       "C-5     0.974714  0.939184  0.925247  0.817888  0.848698  0.749862  0.811821   \n",
       "D-3     0.982552  0.965168  0.965155  0.892067  0.927609  0.784181  0.867322   \n",
       "D-5     1.000000  0.946174  0.955088  0.869757  0.900955  0.725841  0.836359   \n",
       "E-3     0.946174  1.000000  0.942827  0.895469  0.916299  0.814440  0.901211   \n",
       "E-5     0.955088  0.942827  1.000000  0.873731  0.965402  0.740429  0.889326   \n",
       "F-3     0.869757  0.895469  0.873731  1.000000  0.889298  0.722593  0.870519   \n",
       "F-5     0.900955  0.916299  0.965402  0.889298  1.000000  0.735622  0.890124   \n",
       "G-3     0.725841  0.814440  0.740429  0.722593  0.735622  1.000000  0.810397   \n",
       "G-5     0.836359  0.901211  0.889326  0.870519  0.890124  0.810397  1.000000   \n",
       "SP_500  0.109550  0.098593  0.147592 -0.028603  0.056888  0.073867  0.132787   \n",
       "\n",
       "          SP_500  \n",
       "A-3     0.154323  \n",
       "A-5     0.214548  \n",
       "B-3     0.136214  \n",
       "B-5     0.149617  \n",
       "C-3     0.110200  \n",
       "C-5     0.140323  \n",
       "D-3     0.071418  \n",
       "D-5     0.109550  \n",
       "E-3     0.098593  \n",
       "E-5     0.147592  \n",
       "F-3    -0.028603  \n",
       "F-5     0.056888  \n",
       "G-3     0.073867  \n",
       "G-5     0.132787  \n",
       "SP_500  1.000000  "
      ]
     },
     "execution_count": 15,
     "metadata": {},
     "output_type": "execute_result"
    }
   ],
   "source": [
    "# calculating cross-asset correlation matrix\n",
    "correlation = all_assets.corr()\n",
    "correlation"
   ]
  },
  {
   "cell_type": "code",
   "execution_count": 16,
   "metadata": {},
   "outputs": [
    {
     "data": {
      "text/plain": [
       "<matplotlib.axes._subplots.AxesSubplot at 0x28d09dd4e80>"
      ]
     },
     "execution_count": 16,
     "metadata": {},
     "output_type": "execute_result"
    },
    {
     "data": {
      "image/png": "[encoded data removed]",
      "text/plain": [
       "<Figure size 432x288 with 2 Axes>"
      ]
     },
     "metadata": {
      "needs_background": "light"
     },
     "output_type": "display_data"
    }
   ],
   "source": [
    "# heat-map for visual presentation of correlation matrix\n",
    "sns.heatmap(correlation, vmin=-1, vmax=1)"
   ]
  },
  {
   "cell_type": "markdown",
   "metadata": {},
   "source": [
    "#### Each of the loan grades have very low correlation with S&P 500"
   ]
  },
  {
   "cell_type": "markdown",
   "metadata": {},
   "source": [
    "# Recommendations (Portfolio Planner) : Combining Lending Club Loans with S&P 500"
   ]
  },
  {
   "cell_type": "markdown",
   "metadata": {},
   "source": [
    "#### Here we can set any desired weight to different assets in the portfolio"
   ]
  },
  {
   "cell_type": "code",
   "execution_count": 24,
   "metadata": {},
   "outputs": [
    {
     "data": {
      "text/plain": [
       "2016-01-01   -0.029646\n",
       "2016-02-01    0.000836\n",
       "2016-03-01    0.042922\n",
       "2016-04-01    0.004956\n",
       "2016-05-01    0.012510\n",
       "dtype: float64"
      ]
     },
     "execution_count": 24,
     "metadata": {},
     "output_type": "execute_result"
    }
   ],
   "source": [
    "# setting portfolio weights\n",
    "portfolio_weights = [0.0, 0.0, 0.2, 0.2, 0.0,0.0,0.0,0.0,0.0,0.0,0.0,0.0,0.0,0.0,0.6]\n",
    "portfolio_returns = all_assets.dot(portfolio_weights)\n",
    "portfolio_returns.head()"
   ]
  },
  {
   "cell_type": "code",
   "execution_count": 25,
   "metadata": {},
   "outputs": [
    {
     "data": {
      "text/plain": [
       "2016-01-01    0.970354\n",
       "2016-02-01    0.971165\n",
       "2016-03-01    1.012849\n",
       "2016-04-01    1.017868\n",
       "2016-05-01    1.030601\n",
       "dtype: float64"
      ]
     },
     "execution_count": 25,
     "metadata": {},
     "output_type": "execute_result"
    }
   ],
   "source": [
    "# calculating cumulative return of the portfolio\n",
    "cumulative_returns = (1 + portfolio_returns).cumprod()\n",
    "cumulative_returns.head()"
   ]
  },
  {
   "cell_type": "code",
   "execution_count": 26,
   "metadata": {},
   "outputs": [
    {
     "data": {
      "text/plain": [
       "8.814378078444465"
      ]
     },
     "execution_count": 26,
     "metadata": {},
     "output_type": "execute_result"
    }
   ],
   "source": [
    "# annualized mean of portfolio returns (%)\n",
    "portfolio_ret_mean = portfolio_returns.mean()*12*100\n",
    "portfolio_ret_mean"
   ]
  },
  {
   "cell_type": "code",
   "execution_count": 27,
   "metadata": {},
   "outputs": [
    {
     "data": {
      "text/plain": [
       "7.178038616106819"
      ]
     },
     "execution_count": 27,
     "metadata": {},
     "output_type": "execute_result"
    }
   ],
   "source": [
    "# annualized standard deviation of the portfolio returns (%)\n",
    "portfolio_ret_std = portfolio_returns.std()*np.sqrt(12)*100\n",
    "portfolio_ret_std"
   ]
  },
  {
   "cell_type": "code",
   "execution_count": 40,
   "metadata": {},
   "outputs": [
    {
     "data": {
      "text/plain": [
       "Text(0, 0.5, 'Portfolio Dollar Value')"
      ]
     },
     "execution_count": 40,
     "metadata": {},
     "output_type": "execute_result"
    },
    {
     "data": {
      "image/png": "[encoded data removed]",
      "text/plain": [
       "<Figure size 720x360 with 1 Axes>"
      ]
     },
     "metadata": {
      "needs_background": "light"
     },
     "output_type": "display_data"
    }
   ],
   "source": [
    "# how much money we would make by investing in this portfolio!!\n",
    "initial_investment = 10000\n",
    "cumulative_profit = initial_investment * cumulative_returns.shift(1)\n",
    "cumulative_profit['2016-01-01'] = 10000\n",
    "ax = cumulative_profit.plot(figsize = (10,5))\n",
    "ax.set_ylabel(\"Portfolio Dollar Value\")"
   ]
  },
  {
   "cell_type": "code",
   "execution_count": null,
   "metadata": {},
   "outputs": [],
   "source": []
  }
 ],
 "metadata": {
  "kernelspec": {
   "display_name": "Python 3",
   "language": "python",
   "name": "python3"
  },
  "language_info": {
   "codemirror_mode": {
    "name": "ipython",
    "version": 3
   },
   "file_extension": ".py",
   "mimetype": "text/x-python",
   "name": "python",
   "nbconvert_exporter": "python",
   "pygments_lexer": "ipython3",
   "version": "3.7.3"
  }
 },
 "nbformat": 4,
 "nbformat_minor": 4
}
